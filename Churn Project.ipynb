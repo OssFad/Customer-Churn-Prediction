{
 "cells": [
  {
   "cell_type": "markdown",
   "metadata": {},
   "source": [
    " <div style=\"text-align:center; color:red; font-size:40px;\">Customer Churn Prediction</div>"
   ]
  },
  {
   "cell_type": "markdown",
   "metadata": {},
   "source": [
    "# What is the Customer Churn:\n",
    "\n",
    "**Customer churn**, also known as customer attrition, refers to the rate at which customers stop doing business with a company over a given period.\n",
    " It is a key metric for businesses, especially in subscription-based models, telecommunications, banking, e-commerce, and SaaS (Software as a Service) industries."
   ]
  },
  {
   "cell_type": "code",
   "execution_count": null,
   "metadata": {},
   "outputs": [],
   "source": [
    "import pandas as pd\n",
    "import numpy as np\n",
    "import matplotlib.pyplot as plt\n",
    "%matplotlib inline\n",
    "import seaborn as sns\n",
    "import warnings\n",
    "warnings.filterwarnings('ignore')\n",
    "plt.style.use('fivethirtyeight')\n",
    "pd.set_option('display.max_columns', None)"
   ]
  },
  {
   "cell_type": "code",
   "execution_count": null,
   "metadata": {},
   "outputs": [],
   "source": [
    "data=pd.read_csv('WA_Fn-UseC_-Telco-Customer-Churn.csv')\n",
    "df0=data.copy()\n",
    "df0.head()"
   ]
  },
  {
   "cell_type": "code",
   "execution_count": null,
   "metadata": {},
   "outputs": [],
   "source": [
    "\n",
    "print(f'the Shape of Data: {df0.shape}')\n",
    "   "
   ]
  },
  {
   "cell_type": "code",
   "execution_count": null,
   "metadata": {},
   "outputs": [],
   "source": [
    "df0.describe().T"
   ]
  },
  {
   "cell_type": "code",
   "execution_count": null,
   "metadata": {},
   "outputs": [],
   "source": [
    "for col in df0.columns:\n",
    "    print(f'the  values of {col}:{df0[col].unique().tolist()}')\n",
    "    print('******************************************************************')"
   ]
  },
  {
   "cell_type": "code",
   "execution_count": null,
   "metadata": {},
   "outputs": [],
   "source": [
    "df0.info()"
   ]
  },
  {
   "cell_type": "code",
   "execution_count": null,
   "metadata": {},
   "outputs": [],
   "source": [
    "df0.duplicated().sum()\n"
   ]
  },
  {
   "cell_type": "code",
   "execution_count": null,
   "metadata": {},
   "outputs": [],
   "source": [
    "df0.drop(columns=['customerID'],inplace=True)\n",
    "df0['TotalCharges']=pd.to_numeric(df0['TotalCharges'],errors='coerce')\n",
    "\n"
   ]
  },
  {
   "cell_type": "code",
   "execution_count": null,
   "metadata": {},
   "outputs": [],
   "source": [
    "df0.dtypes"
   ]
  },
  {
   "cell_type": "code",
   "execution_count": null,
   "metadata": {},
   "outputs": [],
   "source": [
    "for col in df0.columns:\n",
    "    print(f'{col}: {df0[col].value_counts()}')\n",
    "    print('*********************************************************')"
   ]
  },
  {
   "cell_type": "code",
   "execution_count": null,
   "metadata": {},
   "outputs": [],
   "source": [
    "df0.isna().sum()"
   ]
  },
  {
   "cell_type": "code",
   "execution_count": null,
   "metadata": {},
   "outputs": [],
   "source": [
    "df0.info()"
   ]
  },
  {
   "cell_type": "markdown",
   "metadata": {},
   "source": [
    "# EDA"
   ]
  },
  {
   "cell_type": "code",
   "execution_count": null,
   "metadata": {},
   "outputs": [],
   "source": [
    "df1=df0.copy()"
   ]
  },
  {
   "cell_type": "code",
   "execution_count": null,
   "metadata": {},
   "outputs": [],
   "source": [
    "numcol=[col for col in df1.select_dtypes(include=[float,int]).columns if col!= 'SeniorCitizen']\n",
    "for col in numcol:\n",
    "    print(f'The skewness of {col}:{df1[col].skew()}')\n",
    "    print('******************************************************')"
   ]
  },
  {
   "cell_type": "code",
   "execution_count": null,
   "metadata": {},
   "outputs": [],
   "source": [
    "# Univariate Analysis:\n",
    "## Categorical\n",
    "catcol=df1.select_dtypes(include=object).columns.tolist() + ['SeniorCitizen']\n",
    "sns.set_palette('pastel')\n",
    "for col in catcol:\n",
    "    plt.figure(figsize=(12, 5))\n",
    "\n",
    "    plt.subplot(1,2,1)\n",
    "    sns.countplot(data=df1,x=df1[col],hue='Churn')\n",
    "    plt.title(f'Distribution of {col}',fontsize=12)\n",
    "    \n",
    "    plt.subplot(1,2,2)\n",
    "    df1[col].value_counts().plot.pie(autopct='%1.1f%%')\n",
    "    plt.title(f'{col} Distribution',fontsize=12)\n",
    "\n",
    "    plt.tight_layout()\n",
    "    plt.show()"
   ]
  },
  {
   "cell_type": "code",
   "execution_count": null,
   "metadata": {},
   "outputs": [],
   "source": [
    "# Numerical Distribution:\n",
    "for col in numcol:\n",
    "    plt.figure(figsize=(12,5))\n",
    "    plt.subplot(1,2,1)\n",
    "    sns.histplot(data=df1,x=df1[col], kde=True,color='blue' , edgecolor='black')\n",
    "    plt.title(f'{col} Distribution',fontsize=14)\n",
    "    plt.ylabel(f'Frequency',fontsize=12)\n",
    "\n",
    "    \n",
    "    # Second subplot: Boxplot\n",
    "    plt.subplot(1, 2, 2)\n",
    "    sns.boxplot(y=df1[col], color='orange')\n",
    "    plt.title(f\"Boxplot of {col}\", fontsize=14)\n",
    "    plt.ylabel(col, fontsize=12)\n",
    "\n",
    "    plt.tight_layout()\n",
    "    plt.show()"
   ]
  },
  {
   "cell_type": "markdown",
   "metadata": {},
   "source": [
    "# Building Models"
   ]
  },
  {
   "cell_type": "code",
   "execution_count": null,
   "metadata": {},
   "outputs": [],
   "source": [
    "df2=df1.copy()\n",
    "df2.head()"
   ]
  },
  {
   "cell_type": "code",
   "execution_count": null,
   "metadata": {},
   "outputs": [],
   "source": [
    "from sklearn.model_selection import train_test_split,GridSearchCV,KFold \n",
    "from sklearn.preprocessing import StandardScaler,LabelEncoder\n",
    "from imblearn.over_sampling import SMOTE"
   ]
  },
  {
   "cell_type": "code",
   "execution_count": null,
   "metadata": {},
   "outputs": [],
   "source": [
    "# Encoding the dependent Feature:\n",
    "df2['Churn'].replace({'Yes':1,'No':0},inplace=True)\n",
    "df2['Churn']"
   ]
  },
  {
   "cell_type": "code",
   "execution_count": null,
   "metadata": {},
   "outputs": [],
   "source": [
    "df2.info()"
   ]
  },
  {
   "cell_type": "code",
   "execution_count": null,
   "metadata": {},
   "outputs": [],
   "source": [
    "numerical_col=['tenure', 'MonthlyCharges','TotalCharges']\n",
    "categorical_col=df2.select_dtypes(include=object).columns.tolist()\n",
    "\n",
    "#Encode Numerical data using StandardScaler\n",
    "standard={}\n",
    "for col in numerical_col:\n",
    "    stsc=StandardScaler()\n",
    "    df2[col]=stsc.fit_transform(df2[[col]])\n",
    "    standard[col]=stsc\n",
    "\n",
    "\n",
    "# Encode Categorical data using LabelEncoder:\n",
    "\n",
    "encoders={}\n",
    "for col in categorical_col:\n",
    "    labelencoder=LabelEncoder()\n",
    "    df2[col]=labelencoder.fit_transform(df2[col])\n",
    "    encoders[col]=labelencoder\n",
    "\n",
    "\n"
   ]
  },
  {
   "cell_type": "code",
   "execution_count": null,
   "metadata": {},
   "outputs": [],
   "source": [
    "standard"
   ]
  },
  {
   "cell_type": "code",
   "execution_count": null,
   "metadata": {},
   "outputs": [],
   "source": [
    "encoders"
   ]
  },
  {
   "cell_type": "code",
   "execution_count": null,
   "metadata": {},
   "outputs": [],
   "source": [
    "import pickle\n",
    "with open('encoder.pkl','wb') as f:\n",
    "    pickle.dump(encoders,f)\n",
    "\n",
    "with open('scaler.pkl','wb') as f:\n",
    "    pickle.dump(standard,f)"
   ]
  },
  {
   "cell_type": "code",
   "execution_count": null,
   "metadata": {},
   "outputs": [],
   "source": [
    "df2.dropna(inplace=True)\n",
    "df2.isna().sum()"
   ]
  },
  {
   "cell_type": "code",
   "execution_count": null,
   "metadata": {},
   "outputs": [],
   "source": [
    "# Define the output and the inputs\n",
    "X=df2.iloc[:,:-1]\n",
    "y=df2['Churn']\n",
    "\n",
    "#  Split the data set \n",
    "X_train,X_test,y_train,y_test=train_test_split(X,y,test_size=0.2,random_state=42)\n",
    "X.isna().sum()\n"
   ]
  },
  {
   "cell_type": "code",
   "execution_count": null,
   "metadata": {},
   "outputs": [],
   "source": [
    "# Check if the output is imbalanced\n",
    "\n",
    "max_count= y_train.value_counts().max()\n",
    "min_count= y_train.value_counts().min()\n",
    "IR=max_count /min_count\n",
    "IR\n",
    "# the output is imbalanced"
   ]
  },
  {
   "cell_type": "code",
   "execution_count": null,
   "metadata": {},
   "outputs": [],
   "source": [
    "# Resampling the output\n",
    "from imblearn.over_sampling import SMOTE\n",
    "smote=SMOTE(random_state=42)\n",
    "X_train_smote,y_train_smote=smote.fit_resample(X_train,y_train)\n",
    "\n",
    "y_train_smote.value_counts()"
   ]
  },
  {
   "cell_type": "code",
   "execution_count": null,
   "metadata": {},
   "outputs": [],
   "source": [
    "from sklearn.ensemble import RandomForestClassifier\n",
    "from xgboost import XGBClassifier"
   ]
  },
  {
   "cell_type": "code",
   "execution_count": null,
   "metadata": {},
   "outputs": [],
   "source": [
    "models={\n",
    "    'Random Forest': RandomForestClassifier(random_state=42),\n",
    "    'XGBoost': XGBClassifier(random_state=42)\n",
    "}\n",
    "Hyperparmeter={\n",
    "    'Random Forest':{'n_estimators':[50,100,200],\n",
    "                     'max_depth':[3,5,7],\n",
    "    },\n",
    "    'XGBoost':{'learning_rate':[0.01,0.1,0.2],\n",
    "               'max_depth':[3,5,7],\n",
    "\n",
    "    }\n",
    "\n",
    "}"
   ]
  },
  {
   "cell_type": "code",
   "execution_count": null,
   "metadata": {},
   "outputs": [],
   "source": [
    "cv1=KFold(n_splits=5,shuffle=True,random_state=42)\n",
    "best_models={}\n",
    "for model_name,model in models.items():\n",
    "    print(f\"Tunning {model_name}..............\")\n",
    "    grid=GridSearchCV(estimator=model,param_grid=Hyperparmeter[model_name],cv=cv1,scoring='accuracy')\n",
    "    grid.fit(X_train_smote,y_train_smote)\n",
    "    best_models[model_name]=grid.best_estimator_\n",
    "    print(f\"Best parameters for {model_name}:{grid.best_params_}\")\n",
    "    print(f\"The best Accuracy for {model_name}: {grid.best_score_: .2f}\\n\")\n",
    "\n",
    "\n",
    "\n",
    "\n",
    "\n",
    "\n",
    "\n"
   ]
  },
  {
   "cell_type": "code",
   "execution_count": null,
   "metadata": {},
   "outputs": [],
   "source": [
    "from sklearn.metrics import confusion_matrix,roc_auc_score, classification_report,accuracy_score\n",
    "y_train_pred= best_models['Random Forest'].predict(X_train_smote)\n",
    "y_test_pred=best_models['Random Forest'].predict(X_test)"
   ]
  },
  {
   "cell_type": "code",
   "execution_count": null,
   "metadata": {},
   "outputs": [],
   "source": [
    "print(f\" The Accuracy of Train data: {accuracy_score(y_train_pred,y_train_smote)}\\n The Accuracy of Test data: {accuracy_score(y_test_pred,y_test)}\")\n",
    "print('***************************************************************************************************************************************')\n",
    "print(f\"The confusion matrix of train data:\\n {confusion_matrix(y_train_pred,y_train_smote)}\\n The confusion matrix of test data\\n {confusion_matrix(y_test_pred,y_test)}\")\n",
    "print('***************************************************************************************************************************************')\n",
    "print(f\"the classification report of Train data:\\n {classification_report(y_test_pred,y_test)}\")\n",
    "print('***************************************************************************************************************************************')\n",
    "print(f\"The ROC-AUC of train data:\\n {roc_auc_score(y_train_pred,y_train_smote)}\\n The ROC-AUC of test data:\\n {roc_auc_score(y_test_pred,y_test)}\")"
   ]
  },
  {
   "cell_type": "code",
   "execution_count": null,
   "metadata": {},
   "outputs": [],
   "source": [
    "# visulalize the Confusion matrix\n",
    "cm_train=confusion_matrix(y_train_pred,y_train_smote)\n",
    "cm_test=confusion_matrix(y_test_pred,y_test)\n",
    "\n",
    "\n",
    "sns.set_palette('pastel')\n",
    "plt.figure(figsize=(6,5))\n",
    "plt.subplot(1,2,1)\n",
    "sns.heatmap(cm_train, annot=True, fmt=\"d\", cmap=\"Blues\", xticklabels=[\"0\", \"1\"], yticklabels=[\"0\", \"1\"])\n",
    "plt.xlabel(\"Predicted Label\",fontsize=10)\n",
    "plt.ylabel(\"True Label\",fontsize=10)\n",
    "plt.title(\"Confusion Matrix - Train Data\",fontsize=12)\n",
    "plt.subplot(1,2,2)\n",
    "sns.heatmap(cm_test, annot=True, fmt=\"d\", cmap=\"Blues\", xticklabels=[\"0\", \"1\"], yticklabels=[\"0\", \"1\"])\n",
    "plt.xlabel(\"Predicted Label\", fontsize=10)\n",
    "plt.ylabel(\"True Label\",fontsize=10)\n",
    "plt.title(\"Confusion Matrix - Test Data\",fontsize=12)\n",
    "plt.tight_layout()\n",
    "plt.show()"
   ]
  },
  {
   "cell_type": "code",
   "execution_count": null,
   "metadata": {},
   "outputs": [],
   "source": [
    "#import pickle\n",
    "#with open('encoder.pkl','wb') as f:\n",
    "    #pickle.dump(encoders,f)\n",
    "\n",
    "#with open('scaler.pkl','wb') as f:\n",
    "    #pickle.dump(standard,f)\n",
    "\n",
    "with open(\"best_model.pkl\", \"wb\") as f:\n",
    "    pickle.dump(best_models['Random Forest'], f)\n",
    "\n"
   ]
  },
  {
   "cell_type": "code",
   "execution_count": null,
   "metadata": {},
   "outputs": [],
   "source": [
    "with open(\"best_model.pkl\", \"rb\") as f:\n",
    "    loaded_model = pickle.load(f)\n",
    "with open(\"encoder.pkl\", \"rb\") as f:\n",
    "    encoders = pickle.load(f)\n",
    "with open(\"scaler.pkl\", \"rb\") as f:\n",
    "    scaler_data =pickle.load(f)"
   ]
  },
  {
   "cell_type": "code",
   "execution_count": null,
   "metadata": {},
   "outputs": [],
   "source": [
    "example_input = {\n",
    "    'gender': 'Female',\n",
    "    'SeniorCitizen': 0,\n",
    "    'Partner': 'Yes',\n",
    "    'Dependents': 'No',\n",
    "    'tenure': 1,\n",
    "    'PhoneService': 'No',\n",
    "    'MultipleLines': 'No phone service',\n",
    "    'InternetService': 'DSL',\n",
    "    'OnlineSecurity': 'No',\n",
    "    'OnlineBackup': 'Yes',\n",
    "    'DeviceProtection': 'No',\n",
    "    'TechSupport': 'No',\n",
    "    'StreamingTV': 'No',\n",
    "    'StreamingMovies': 'No',\n",
    "    'Contract': 'Month-to-month',\n",
    "    'PaperlessBilling': 'Yes',\n",
    "    'PaymentMethod': 'Electronic check',\n",
    "    'MonthlyCharges': 29.85,\n",
    "    'TotalCharges': 29.85\n",
    "}\n"
   ]
  },
  {
   "cell_type": "code",
   "execution_count": null,
   "metadata": {},
   "outputs": [],
   "source": [
    "print(loaded_model.feature_names_in_)\n"
   ]
  },
  {
   "cell_type": "code",
   "execution_count": null,
   "metadata": {},
   "outputs": [],
   "source": [
    "# Load models, encoders, and scalers\n",
    "with open(\"best_model.pkl\", \"rb\") as f:\n",
    "    loaded_model = pickle.load(f)\n",
    "with open(\"encoder.pkl\", \"rb\") as f:\n",
    "    encoders = pickle.load(f)\n",
    "with open(\"scaler.pkl\", \"rb\") as f:\n",
    "    scaler_data = pickle.load(f)\n",
    "\n",
    "# Function to preprocess new input data\n",
    "def preprocess_input(input_data):\n",
    "    input_df = pd.DataFrame([input_data])\n",
    "    \n",
    "    # Apply encoding to categorical features\n",
    "    for col, encoder in encoders.items():\n",
    "        if col in input_df.columns:  # Ensure the column exists\n",
    "            input_df[col] = encoder.transform(input_df[col])\n",
    "\n",
    "    # Apply scaling to numerical features\n",
    "    for col, scaler in scaler_data.items():\n",
    "        if col in input_df.columns:  # Ensure the column exists\n",
    "            input_df[col] = scaler.transform(input_df[[col]])\n",
    "\n",
    "    return input_df\n",
    "\n",
    "# Function to make prediction\n",
    "def make_prediction(input_data):\n",
    "    input_df = preprocess_input(input_data)\n",
    "    \n",
    "    # Predicting churn and probability using the loaded model\n",
    "    prediction = loaded_model.predict(input_df)[0]\n",
    "    probability = loaded_model.predict_proba(input_df)[0, 1]\n",
    "    \n",
    "    return \"Churn\" if prediction == 1 else \"No Churn\", probability\n",
    "\n"
   ]
  },
  {
   "cell_type": "code",
   "execution_count": null,
   "metadata": {},
   "outputs": [],
   "source": [
    "# Example input data (replace with actual new input data)\n",
    "example_input = {\n",
    "    'gender': 'Female',\n",
    "    'SeniorCitizen': 0,\n",
    "    'Partner': 'Yes',\n",
    "    'Dependents': 'No',\n",
    "    'tenure': 1,\n",
    "    'PhoneService': 'No',\n",
    "    'MultipleLines': 'No phone service',\n",
    "    'InternetService': 'DSL',\n",
    "    'OnlineSecurity': 'No',\n",
    "    'OnlineBackup': 'Yes',\n",
    "    'DeviceProtection': 'No',\n",
    "    'TechSupport': 'No',\n",
    "    'StreamingTV': 'No',\n",
    "    'StreamingMovies': 'No',\n",
    "    'Contract': 'Month-to-month',\n",
    "    'PaperlessBilling': 'Yes',\n",
    "    'PaymentMethod': 'Electronic check',\n",
    "    'MonthlyCharges': 29.85,\n",
    "    'TotalCharges': 29.85\n",
    "}\n",
    "\n",
    "# Get prediction for the example input\n",
    "prediction, probability = make_prediction(example_input)\n",
    "print(f\"Prediction: {prediction}, Probability: {probability:.2f}\")\n"
   ]
  },
  {
   "cell_type": "code",
   "execution_count": null,
   "metadata": {},
   "outputs": [],
   "source": []
  }
 ],
 "metadata": {
  "kernelspec": {
   "display_name": "Python 3 (ipykernel)",
   "language": "python",
   "name": "python3"
  },
  "language_info": {
   "codemirror_mode": {
    "name": "ipython",
    "version": 3
   },
   "file_extension": ".py",
   "mimetype": "text/x-python",
   "name": "python",
   "nbconvert_exporter": "python",
   "pygments_lexer": "ipython3",
   "version": "3.11.5"
  }
 },
 "nbformat": 4,
 "nbformat_minor": 2
}
